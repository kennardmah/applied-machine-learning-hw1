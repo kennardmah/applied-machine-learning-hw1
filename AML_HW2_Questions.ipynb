{
  "cells": [
    {
      "cell_type": "markdown",
      "metadata": {
        "id": "view-in-github",
        "colab_type": "text"
      },
      "source": [
        "<a href=\"https://colab.research.google.com/github/kennardmah/applied-machine-learning-hw1/blob/main/AML_HW2_Questions.ipynb\" target=\"_parent\"><img src=\"https://colab.research.google.com/assets/colab-badge.svg\" alt=\"Open In Colab\"/></a>"
      ]
    },
    {
      "cell_type": "markdown",
      "metadata": {
        "id": "PGK51ENiWK8u"
      },
      "source": [
        "# Assignment 2: Ensemble Methods and Calibration\n",
        "\n",
        "\n",
        "## Instructions\n",
        "\n",
        "Please push the .ipynb, .py, and .pdf to Github Classroom prior to the deadline. Please include your UNI as well.\n",
        "\n",
        "**Make sure to use the dataset that we provide in CourseWorks/Classroom.**\n",
        "\n",
        "**There are a lot of applied questions based on the code results. Please make sure to answer them all. These are primarily to test your understanding of the results your code generate (similar to any Data Science/ML case study interviews).**\n"
      ]
    },
    {
      "cell_type": "markdown",
      "metadata": {
        "id": "UjuxG_U8Px5X"
      },
      "source": [
        "## Name: Kennard Mah\n",
        "## UNI: ksm2198"
      ]
    },
    {
      "cell_type": "markdown",
      "metadata": {
        "id": "IMh1gfa1WQ-s"
      },
      "source": [
        "\n",
        "## Dataset Description: Bank Marketing Dataset\n",
        "\n",
        "This dataset contains information about direct marketing campaigns (phone calls) of a banking institution. The goal is to predict whether the client will subscribe to a term deposit. The details of the features and target are listed below:\n",
        "\n",
        "**Features**:\n",
        "- `age`: Age of the client\n",
        "- `job`: Type of job\n",
        "- `marital`: Marital status\n",
        "- `education`: Education level\n",
        "- `default`: Has credit in default?\n",
        "- `balance`: Average yearly balance\n",
        "- `housing`: Has housing loan?\n",
        "- `loan`: Has personal loan?\n",
        "- `contact`: Contact communication type\n",
        "- `day`: Last contact day of the month\n",
        "- `month`: Last contact month of year\n",
        "- `duration`: Last contact duration in seconds\n",
        "- `campaign`: Number of contacts performed during this campaign\n",
        "- `pdays`: Number of days since the client was last contacted from a previous campaign\n",
        "- `previous`: Number of contacts performed before this campaign\n",
        "- `poutcome`: Outcome of the previous marketing campaign\n",
        "- `deposit`: Has the client subscribed to a term deposit? (target)\n",
        "\n",
        "**Objective**: The target variable (`deposit`) is binary (yes/no), and the goal is to predict whether a client will subscribe to a term deposit based on the given features.\n",
        "\n"
      ]
    },
    {
      "cell_type": "code",
      "source": [
        "## Use this cell to import necessary packages\n"
      ],
      "metadata": {
        "id": "jW2PY1LIiBMB"
      },
      "execution_count": null,
      "outputs": []
    },
    {
      "cell_type": "markdown",
      "metadata": {
        "id": "x9xC14h3WcKC"
      },
      "source": [
        "## Question 1: Decision Trees"
      ]
    },
    {
      "cell_type": "markdown",
      "metadata": {
        "id": "3tGQU8PdWgIe"
      },
      "source": [
        "\n",
        "**1.1: Load the Bank Marketing Dataset and inspect its structure.**\n",
        "- Hint: Inspect columns and types.\n"
      ]
    },
    {
      "cell_type": "code",
      "execution_count": null,
      "metadata": {
        "id": "KUpVHIJVZ93o"
      },
      "outputs": [],
      "source": [
        "## YOUR CODE HERE"
      ]
    },
    {
      "cell_type": "markdown",
      "metadata": {
        "id": "7b1FzZArWqp5"
      },
      "source": [
        "\n",
        "**1.2: Are there any missing values in the dataset? If yes, how do you plan to handle them?**\n"
      ]
    },
    {
      "cell_type": "code",
      "execution_count": null,
      "metadata": {
        "id": "aA2iOzZmaKoc"
      },
      "outputs": [],
      "source": [
        "## YOUR CODE HERE"
      ]
    },
    {
      "cell_type": "markdown",
      "metadata": {
        "id": "YTiDRE_QWwrZ"
      },
      "source": [
        "\n",
        "**1.3: Plot side-by-side bars of class distribution for each categorical feature in the dataset with respect to the target variable (e.g., `job`, `marital`, `education`, etc.).**\n"
      ]
    },
    {
      "cell_type": "code",
      "execution_count": null,
      "metadata": {
        "id": "a0NA4MYHUndS"
      },
      "outputs": [],
      "source": [
        "## YOUR CODE HERE"
      ]
    },
    {
      "cell_type": "markdown",
      "metadata": {
        "id": "cRZ4egV6UdW6"
      },
      "source": [
        "**1.4: Explain the distribution of the target variable and the dataset.**\n"
      ]
    },
    {
      "cell_type": "code",
      "execution_count": null,
      "metadata": {
        "id": "7fd95T_pUsQi"
      },
      "outputs": [],
      "source": [
        "## YOUR COMMENT HERE"
      ]
    },
    {
      "cell_type": "markdown",
      "metadata": {
        "id": "QoaKPYujU4HL"
      },
      "source": [
        "**1.5: Split the data into development and test datasets. Which splitting methodology did you choose and why?**\n",
        "\n",
        "**Hint: Based on the distribution of the data, try to use the best splitting strategy.**"
      ]
    },
    {
      "cell_type": "code",
      "execution_count": null,
      "metadata": {
        "id": "oVP86hSJU6N5"
      },
      "outputs": [],
      "source": [
        "## YOUR CODE HERE"
      ]
    },
    {
      "cell_type": "markdown",
      "metadata": {
        "id": "W2063ibhVCg8"
      },
      "source": [
        "**1.6: Would you drop any column? Justify your reasoning.**\n",
        "\n",
        "**Preprocess the data (Handle the Categorical Variable). Would you consider a mix of encoding techniques? Justify.\n",
        "Do we need to apply scaling? Briefly Justify**\n",
        "\n"
      ]
    },
    {
      "cell_type": "code",
      "execution_count": null,
      "metadata": {
        "id": "bKkHU__EVEkz"
      },
      "outputs": [],
      "source": [
        "## YOUR CODE HERE"
      ]
    },
    {
      "cell_type": "markdown",
      "metadata": {
        "id": "ydfNqM4KW5AP"
      },
      "source": [
        "**1.7: Fit a Decision Tree on the development data until all leaves are pure. Which scoring metric will you prefer, and why? What is the performance of the tree on the development set and test set? Evaluate test and train accuarcy on F-1 score and accuracy.**"
      ]
    },
    {
      "cell_type": "code",
      "execution_count": null,
      "metadata": {
        "id": "8TFVV3E3aTJr"
      },
      "outputs": [],
      "source": [
        "## YOUR CODE HERE"
      ]
    },
    {
      "cell_type": "markdown",
      "metadata": {
        "id": "T3uSYXFWVgHO"
      },
      "source": [
        "**1.8: Visualize the trained tree until the suitable max_depth.**"
      ]
    },
    {
      "cell_type": "code",
      "execution_count": null,
      "metadata": {
        "id": "Ljav8dI9VksX"
      },
      "outputs": [],
      "source": [
        "## YOUR CODE HERE"
      ]
    },
    {
      "cell_type": "markdown",
      "metadata": {
        "id": "NP8QbgC9VsXz"
      },
      "source": [
        "**1.9: Prune the tree using one of the techniques discussed in class and evaluate the performance.**\n",
        "\n",
        "**Print the optimal value of the tuned parameter.**"
      ]
    },
    {
      "cell_type": "code",
      "execution_count": null,
      "metadata": {
        "id": "Fgw6Z_AHVuxE"
      },
      "outputs": [],
      "source": [
        "## YOUR CODE HERE"
      ]
    },
    {
      "cell_type": "markdown",
      "metadata": {
        "id": "tL3n49rUVzJs"
      },
      "source": [
        "**1.10: List the top 3 most important features for this trained tree? How would you justify these features being the most important?**"
      ]
    },
    {
      "cell_type": "code",
      "execution_count": null,
      "metadata": {
        "id": "Pk_B6bAXV0t8"
      },
      "outputs": [],
      "source": [
        "## YOUR CODE HERE"
      ]
    },
    {
      "cell_type": "markdown",
      "metadata": {
        "id": "0EaPUeMN5K62"
      },
      "source": [
        "## Question 2: Random Forests"
      ]
    },
    {
      "cell_type": "markdown",
      "metadata": {
        "id": "e4nmOojt5cAn"
      },
      "source": [
        "**2.1: Train a Random Forest model on the development dataset using RandomForestClassifier class in sklearn. Use the default parameters. Evaluate the performance of the model on test dataset. Use accuracy and F1 score to evaluate. Does this perform better than Decision Tree on the test dataset (compare to results in Q 1.7)?**"
      ]
    },
    {
      "cell_type": "code",
      "execution_count": null,
      "metadata": {
        "id": "KTB50d0fagfQ"
      },
      "outputs": [],
      "source": [
        "## YOUR CODE HERE"
      ]
    },
    {
      "cell_type": "markdown",
      "metadata": {
        "id": "QoJQilC78kv6"
      },
      "source": [
        "**2.2: Do all trees in the trained random forest model have pure leaves? How would you verify that all trees have pure leaves? Print the score (mean accuracy) values of your choosen method**"
      ]
    },
    {
      "cell_type": "code",
      "execution_count": null,
      "metadata": {
        "id": "JqE9bxz6ah04"
      },
      "outputs": [],
      "source": [
        "## YOUR CODE HERE"
      ]
    },
    {
      "cell_type": "markdown",
      "metadata": {
        "id": "Nf_5wY4C8xHa"
      },
      "source": [
        "**2.3: Assume you want to improve the performance of this model. Also, assume that you had to pick two hyperparameters that you could tune to improve its performance. Which hyperparameters would you choose and why?**\n"
      ]
    },
    {
      "cell_type": "code",
      "execution_count": null,
      "metadata": {
        "id": "pGdmmTjSat6w"
      },
      "outputs": [],
      "source": [
        "## YOUR SOLUTION HERE"
      ]
    },
    {
      "cell_type": "markdown",
      "metadata": {
        "id": "4L5ymzKB84BQ"
      },
      "source": [
        "**2.4: Now, assume you had to choose up to 5 different values (each) for these two hyperparameters. How would you choose these values that could potentially give you a performance lift?**"
      ]
    },
    {
      "cell_type": "code",
      "execution_count": null,
      "metadata": {
        "id": "y5N_oxH7av-O"
      },
      "outputs": [],
      "source": [
        "## YOUR SOLUTION HERE"
      ]
    },
    {
      "cell_type": "markdown",
      "metadata": {
        "id": "ipLNT1y_84rI"
      },
      "source": [
        "**2.5: Perform model selection using the chosen values for the hyperparameters. Use out-of-bag (OOB) error for finding the optimal hyperparameters. Report on the optimal hyperparameters. Estimate the performance of the optimal model (model trained with optimal hyperparameters) on train and test dataset? Has the performance improved over your plain-vanilla random forest model trained in Q2.1?**"
      ]
    },
    {
      "cell_type": "code",
      "execution_count": null,
      "metadata": {
        "id": "1uRgvlVuayc0"
      },
      "outputs": [],
      "source": [
        "## YOUR CODE HERE"
      ]
    },
    {
      "cell_type": "markdown",
      "metadata": {
        "id": "E99HR_mZA_cM"
      },
      "source": [
        " **2.6: Can you find the top 3 most important features from the model trained in Q2.5? How do these features compare to the important features that you found from Q1.10? If they differ, which feature set makes more sense?**"
      ]
    },
    {
      "cell_type": "code",
      "execution_count": null,
      "metadata": {
        "id": "j-9fIM-ba0Oq"
      },
      "outputs": [],
      "source": [
        "## YOUR CODE HERE"
      ]
    },
    {
      "cell_type": "markdown",
      "metadata": {
        "id": "IwgYEfrfLh1H"
      },
      "source": [
        "## Question 3: Gradient Boosted Trees"
      ]
    },
    {
      "cell_type": "markdown",
      "metadata": {
        "id": "G22EKzRjLh1I"
      },
      "source": [
        "**3.1: Choose three hyperparameters to tune HistGradientBoostingClassifier on the development dataset using 5-fold cross validation. For each hyperparmeter, give it 3 potential values. Report on the time taken to do model selection for the model. Also, report the performance of the test dataset from the optimal models.**"
      ]
    },
    {
      "cell_type": "code",
      "execution_count": null,
      "metadata": {
        "id": "Myo5M6am1Ljt"
      },
      "outputs": [],
      "source": [
        "## YOUR CODE HERE"
      ]
    },
    {
      "cell_type": "markdown",
      "metadata": {
        "id": "n1_47XwsLh1I"
      },
      "source": [
        "**3.2: Repeat 3.1 for XGBoost.**\n",
        "\n",
        "**Note**: For XGBoost, you **DO NOT HAVE TO** choose the same hyperparameters as HistGradientBoostingClassifier."
      ]
    },
    {
      "cell_type": "code",
      "execution_count": null,
      "metadata": {
        "id": "G-vzE9uh1MiC"
      },
      "outputs": [],
      "source": [
        "## YOUR CODE HERE"
      ]
    },
    {
      "cell_type": "markdown",
      "metadata": {
        "id": "LDcp7suzLh1I"
      },
      "source": [
        "**3.3: Compare the results on the test dataset of XGBoost and HistGradientBoostingClassifier. Which model do you prefer and why?**"
      ]
    },
    {
      "cell_type": "markdown",
      "metadata": {
        "id": "ZU3T-Mbc1NF4"
      },
      "source": [
        "Your Comments Here"
      ]
    },
    {
      "cell_type": "markdown",
      "metadata": {
        "id": "MiLxyTs3Lh1I"
      },
      "source": [
        "**3.4: Can you list the top 3 important features from the trained XGBoost model? How do they differ from the features found from Random Forest and Decision Tree?**"
      ]
    },
    {
      "cell_type": "code",
      "execution_count": null,
      "metadata": {
        "id": "uRg9zHXF1Nvj"
      },
      "outputs": [],
      "source": [
        "## YOUR CODE HERE"
      ]
    },
    {
      "cell_type": "markdown",
      "metadata": {
        "id": "XslKOV0zLh1I"
      },
      "source": [
        "**3.5: Can you choose the top 5 features (as given by feature importances from XGBoost) and repeat Q3.2? Does this model perform better than the one trained in Q3.2? Why or why not is the performance better?**"
      ]
    },
    {
      "cell_type": "code",
      "execution_count": null,
      "metadata": {
        "id": "tCOXabbZ1OY5"
      },
      "outputs": [],
      "source": [
        "## YOUR CODE HERE"
      ]
    },
    {
      "cell_type": "markdown",
      "metadata": {
        "id": "Z6X1i5-OH1dj"
      },
      "source": [
        "## Question 4: Calibration"
      ]
    },
    {
      "cell_type": "markdown",
      "metadata": {
        "id": "dzrqP5IEH4r8"
      },
      "source": [
        "**4.1: Estimate the brier score for the XGBoost model (trained with optimal hyperparameters from Q3.2) scored on the test dataset.**"
      ]
    },
    {
      "cell_type": "code",
      "execution_count": null,
      "metadata": {
        "id": "99WKDH2M1PH2"
      },
      "outputs": [],
      "source": [
        "## YOUR CODE HERE"
      ]
    },
    {
      "cell_type": "markdown",
      "metadata": {
        "id": "FrwJNloIBlW3"
      },
      "source": [
        "**4.2: Calibrate the trained XGBoost model using isotonic regression. Print the brier score after calibration and plot predicted v.s. actual on test datasets from the calibration method.**"
      ]
    },
    {
      "cell_type": "code",
      "execution_count": null,
      "metadata": {
        "id": "Lar6XNTk1Pw9"
      },
      "outputs": [],
      "source": [
        "## YOUR CODE HERE"
      ]
    },
    {
      "cell_type": "markdown",
      "metadata": {
        "id": "IfBTkjtoIKfP"
      },
      "source": [
        "**4.3: Compare the brier scores from 4.1 and 4.2. Do the calibration methods help in having better predicted probabilities?**"
      ]
    },
    {
      "cell_type": "markdown",
      "metadata": {
        "id": "4l-KRYw91QfC"
      },
      "source": [
        "Your Comments Here"
      ]
    }
  ],
  "metadata": {
    "colab": {
      "provenance": [],
      "include_colab_link": true
    },
    "kernelspec": {
      "display_name": "Python 3 (ipykernel)",
      "language": "python",
      "name": "python3"
    },
    "language_info": {
      "codemirror_mode": {
        "name": "ipython",
        "version": 3
      },
      "file_extension": ".py",
      "mimetype": "text/x-python",
      "name": "python",
      "nbconvert_exporter": "python",
      "pygments_lexer": "ipython3",
      "version": "3.9.13"
    }
  },
  "nbformat": 4,
  "nbformat_minor": 0
}